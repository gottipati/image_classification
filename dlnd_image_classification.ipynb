{
 "cells": [
  {
   "cell_type": "markdown",
   "metadata": {
    "collapsed": true
   },
   "source": [
    "# Image Classification\n",
    "In this project, you'll classify images from the [CIFAR-10 dataset](https://www.cs.toronto.edu/~kriz/cifar.html).  The dataset consists of airplanes, dogs, cats, and other objects. You'll preprocess the images, then train a convolutional neural network on all the samples. The images need to be normalized and the labels need to be one-hot encoded.  You'll get to apply what you learned and build a convolutional, max pooling, dropout, and fully connected layers.  At the end, you'll get to see your neural network's predictions on the sample images.\n",
    "## Get the Data\n",
    "Run the following cell to download the [CIFAR-10 dataset for python](https://www.cs.toronto.edu/~kriz/cifar-10-python.tar.gz)."
   ]
  },
  {
   "cell_type": "code",
   "execution_count": 8,
   "metadata": {},
   "outputs": [
    {
     "name": "stdout",
     "output_type": "stream",
     "text": [
      "All files found!\n"
     ]
    }
   ],
   "source": [
    "\"\"\"\n",
    "DON'T MODIFY ANYTHING IN THIS CELL THAT IS BELOW THIS LINE\n",
    "\"\"\"\n",
    "from urllib.request import urlretrieve\n",
    "from os.path import isfile, isdir\n",
    "from tqdm import tqdm\n",
    "import problem_unittests as tests\n",
    "import tarfile\n",
    "\n",
    "cifar10_dataset_folder_path = 'cifar-10-batches-py'\n",
    "\n",
    "# Use Floyd's cifar-10 dataset if present\n",
    "floyd_cifar10_location = '/input/cifar-10/python.tar.gz'\n",
    "if isfile(floyd_cifar10_location):\n",
    "    tar_gz_path = floyd_cifar10_location\n",
    "else:\n",
    "    tar_gz_path = 'cifar-10-python.tar.gz'\n",
    "\n",
    "class DLProgress(tqdm):\n",
    "    last_block = 0\n",
    "\n",
    "    def hook(self, block_num=1, block_size=1, total_size=None):\n",
    "        self.total = total_size\n",
    "        self.update((block_num - self.last_block) * block_size)\n",
    "        self.last_block = block_num\n",
    "\n",
    "if not isfile(tar_gz_path):\n",
    "    with DLProgress(unit='B', unit_scale=True, miniters=1, desc='CIFAR-10 Dataset') as pbar:\n",
    "        urlretrieve(\n",
    "            'https://www.cs.toronto.edu/~kriz/cifar-10-python.tar.gz',\n",
    "            tar_gz_path,\n",
    "            pbar.hook)\n",
    "\n",
    "if not isdir(cifar10_dataset_folder_path):\n",
    "    with tarfile.open(tar_gz_path) as tar:\n",
    "        tar.extractall()\n",
    "        tar.close()\n",
    "\n",
    "\n",
    "tests.test_folder_path(cifar10_dataset_folder_path)"
   ]
  },
  {
   "cell_type": "markdown",
   "metadata": {},
   "source": [
    "## Explore the Data\n",
    "The dataset is broken into batches to prevent your machine from running out of memory.  The CIFAR-10 dataset consists of 5 batches, named `data_batch_1`, `data_batch_2`, etc.. Each batch contains the labels and images that are one of the following:\n",
    "* airplane\n",
    "* automobile\n",
    "* bird\n",
    "* cat\n",
    "* deer\n",
    "* dog\n",
    "* frog\n",
    "* horse\n",
    "* ship\n",
    "* truck\n",
    "\n",
    "Understanding a dataset is part of making predictions on the data.  Play around with the code cell below by changing the `batch_id` and `sample_id`. The `batch_id` is the id for a batch (1-5). The `sample_id` is the id for a image and label pair in the batch.\n",
    "\n",
    "Ask yourself \"What are all possible labels?\", \"What is the range of values for the image data?\", \"Are the labels in order or random?\".  Answers to questions like these will help you preprocess the data and end up with better predictions."
   ]
  },
  {
   "cell_type": "code",
   "execution_count": 10,
   "metadata": {},
   "outputs": [
    {
     "name": "stdout",
     "output_type": "stream",
     "text": [
      "\n",
      "Stats of batch 4:\n",
      "Samples: 10000\n",
      "Label Counts: {0: 1003, 1: 963, 2: 1041, 3: 976, 4: 1004, 5: 1021, 6: 1004, 7: 981, 8: 1024, 9: 983}\n",
      "First 20 Labels: [0, 6, 0, 2, 7, 2, 1, 2, 4, 1, 5, 6, 6, 3, 1, 3, 5, 5, 8, 1]\n",
      "\n",
      "Example of Image 10:\n",
      "Image - Min Value: 44 Max Value: 246\n",
      "Image - Shape: (32, 32, 3)\n",
      "Label - Label Id: 5 Name: dog\n"
     ]
    },
    {
     "data": {
      "image/png": "[encoded data removed]",
      "text/plain": [
       "<matplotlib.figure.Figure at 0x7efc38a81e80>"
      ]
     },
     "metadata": {
      "image/png": {
       "height": 250,
       "width": 253
      }
     },
     "output_type": "display_data"
    }
   ],
   "source": [
    "%matplotlib inline\n",
    "%config InlineBackend.figure_format = 'retina'\n",
    "\n",
    "import helper\n",
    "import numpy as np\n",
    "\n",
    "# Explore the dataset\n",
    "batch_id = 4\n",
    "sample_id = 10\n",
    "helper.display_stats(cifar10_dataset_folder_path, batch_id, sample_id)"
   ]
  },
  {
   "cell_type": "markdown",
   "metadata": {},
   "source": [
    "## Implement Preprocess Functions\n",
    "### Normalize\n",
    "In the cell below, implement the `normalize` function to take in image data, `x`, and return it as a normalized Numpy array. The values should be in the range of 0 to 1, inclusive.  The return object should be the same shape as `x`."
   ]
  },
  {
   "cell_type": "code",
   "execution_count": 11,
   "metadata": {},
   "outputs": [
    {
     "name": "stdout",
     "output_type": "stream",
     "text": [
      "Tests Passed\n"
     ]
    }
   ],
   "source": [
    "def normalize(x):\n",
    "    \"\"\"\n",
    "    Normalize a list of sample image data in the range of 0 to 1\n",
    "    : x: List of image data.  The image shape is (32, 32, 3)\n",
    "    : return: Numpy array of normalize data\n",
    "    \"\"\"\n",
    "    # TODO: Implement Function\n",
    "    return np.array(x/255)\n",
    "\n",
    "\n",
    "\"\"\"\n",
    "DON'T MODIFY ANYTHING IN THIS CELL THAT IS BELOW THIS LINE\n",
    "\"\"\"\n",
    "tests.test_normalize(normalize)"
   ]
  },
  {
   "cell_type": "markdown",
   "metadata": {},
   "source": [
    "### One-hot encode\n",
    "Just like the previous code cell, you'll be implementing a function for preprocessing.  This time, you'll implement the `one_hot_encode` function. The input, `x`, are a list of labels.  Implement the function to return the list of labels as One-Hot encoded Numpy array.  The possible values for labels are 0 to 9. The one-hot encoding function should return the same encoding for each value between each call to `one_hot_encode`.  Make sure to save the map of encodings outside the function.\n",
    "\n",
    "Hint: Don't reinvent the wheel."
   ]
  },
  {
   "cell_type": "code",
   "execution_count": 12,
   "metadata": {},
   "outputs": [
    {
     "name": "stdout",
     "output_type": "stream",
     "text": [
      "Tests Passed\n"
     ]
    }
   ],
   "source": [
    "from sklearn.preprocessing import OneHotEncoder\n",
    "oneHot = OneHotEncoder(n_values=10)\n",
    "def one_hot_encode(x):\n",
    "    \"\"\"\n",
    "    One hot encode a list of sample labels. Return a one-hot encoded vector for each label.\n",
    "    : x: List of sample Labels\n",
    "    : return: Numpy array of one-hot encoded labels\n",
    "    \"\"\"\n",
    "    # TODO: Implement Function\n",
    "    y = np.array(x).reshape(-1,1)\n",
    "    return oneHot.fit_transform(y).toarray()\n",
    "\n",
    "\n",
    "\"\"\"\n",
    "DON'T MODIFY ANYTHING IN THIS CELL THAT IS BELOW THIS LINE\n",
    "\"\"\"\n",
    "tests.test_one_hot_encode(one_hot_encode)"
   ]
  },
  {
   "cell_type": "markdown",
   "metadata": {},
   "source": [
    "### Randomize Data\n",
    "As you saw from exploring the data above, the order of the samples are randomized.  It doesn't hurt to randomize it again, but you don't need to for this dataset."
   ]
  },
  {
   "cell_type": "markdown",
   "metadata": {},
   "source": [
    "## Preprocess all the data and save it\n",
    "Running the code cell below will preprocess all the CIFAR-10 data and save it to file. The code below also uses 10% of the training data for validation."
   ]
  },
  {
   "cell_type": "code",
   "execution_count": 13,
   "metadata": {
    "collapsed": true
   },
   "outputs": [],
   "source": [
    "\"\"\"\n",
    "DON'T MODIFY ANYTHING IN THIS CELL\n",
    "\"\"\"\n",
    "# Preprocess Training, Validation, and Testing Data\n",
    "helper.preprocess_and_save_data(cifar10_dataset_folder_path, normalize, one_hot_encode)"
   ]
  },
  {
   "cell_type": "markdown",
   "metadata": {},
   "source": [
    "# Check Point\n",
    "This is your first checkpoint.  If you ever decide to come back to this notebook or have to restart the notebook, you can start from here.  The preprocessed data has been saved to disk."
   ]
  },
  {
   "cell_type": "code",
   "execution_count": 14,
   "metadata": {
    "collapsed": true
   },
   "outputs": [],
   "source": [
    "\"\"\"\n",
    "DON'T MODIFY ANYTHING IN THIS CELL\n",
    "\"\"\"\n",
    "import pickle\n",
    "import problem_unittests as tests\n",
    "import helper\n",
    "\n",
    "# Load the Preprocessed Validation data\n",
    "valid_features, valid_labels = pickle.load(open('preprocess_validation.p', mode='rb'))"
   ]
  },
  {
   "cell_type": "markdown",
   "metadata": {},
   "source": [
    "## Build the network\n",
    "For the neural network, you'll build each layer into a function.  Most of the code you've seen has been outside of functions. To test your code more thoroughly, we require that you put each layer in a function.  This allows us to give you better feedback and test for simple mistakes using our unittests before you submit your project.\n",
    "\n",
    ">**Note:** If you're finding it hard to dedicate enough time for this course each week, we've provided a small shortcut to this part of the project. In the next couple of problems, you'll have the option to use classes from the [TensorFlow Layers](https://www.tensorflow.org/api_docs/python/tf/layers) or [TensorFlow Layers (contrib)](https://www.tensorflow.org/api_guides/python/contrib.layers) packages to build each layer, except the layers you build in the \"Convolutional and Max Pooling Layer\" section.  TF Layers is similar to Keras's and TFLearn's abstraction to layers, so it's easy to pickup.\n",
    "\n",
    ">However, if you would like to get the most out of this course, try to solve all the problems _without_ using anything from the TF Layers packages. You **can** still use classes from other packages that happen to have the same name as ones you find in TF Layers! For example, instead of using the TF Layers version of the `conv2d` class, [tf.layers.conv2d](https://www.tensorflow.org/api_docs/python/tf/layers/conv2d), you would want to use the TF Neural Network version of `conv2d`, [tf.nn.conv2d](https://www.tensorflow.org/api_docs/python/tf/nn/conv2d). \n",
    "\n",
    "Let's begin!\n",
    "\n",
    "### Input\n",
    "The neural network needs to read the image data, one-hot encoded labels, and dropout keep probability. Implement the following functions\n",
    "* Implement `neural_net_image_input`\n",
    " * Return a [TF Placeholder](https://www.tensorflow.org/api_docs/python/tf/placeholder)\n",
    " * Set the shape using `image_shape` with batch size set to `None`.\n",
    " * Name the TensorFlow placeholder \"x\" using the TensorFlow `name` parameter in the [TF Placeholder](https://www.tensorflow.org/api_docs/python/tf/placeholder).\n",
    "* Implement `neural_net_label_input`\n",
    " * Return a [TF Placeholder](https://www.tensorflow.org/api_docs/python/tf/placeholder)\n",
    " * Set the shape using `n_classes` with batch size set to `None`.\n",
    " * Name the TensorFlow placeholder \"y\" using the TensorFlow `name` parameter in the [TF Placeholder](https://www.tensorflow.org/api_docs/python/tf/placeholder).\n",
    "* Implement `neural_net_keep_prob_input`\n",
    " * Return a [TF Placeholder](https://www.tensorflow.org/api_docs/python/tf/placeholder) for dropout keep probability.\n",
    " * Name the TensorFlow placeholder \"keep_prob\" using the TensorFlow `name` parameter in the [TF Placeholder](https://www.tensorflow.org/api_docs/python/tf/placeholder).\n",
    "\n",
    "These names will be used at the end of the project to load your saved model.\n",
    "\n",
    "Note: `None` for shapes in TensorFlow allow for a dynamic size."
   ]
  },
  {
   "cell_type": "code",
   "execution_count": 15,
   "metadata": {},
   "outputs": [
    {
     "name": "stdout",
     "output_type": "stream",
     "text": [
      "Image Input Tests Passed.\n",
      "Label Input Tests Passed.\n",
      "Keep Prob Tests Passed.\n"
     ]
    }
   ],
   "source": [
    "import tensorflow as tf\n",
    "\n",
    "def neural_net_image_input(image_shape):\n",
    "    \"\"\"\n",
    "    Return a Tensor for a batch of image input\n",
    "    : image_shape: Shape of the images\n",
    "    : return: Tensor for image input.\n",
    "    \"\"\"\n",
    "    # TODO: Implement Function\n",
    "    return tf.placeholder(tf.float32, shape=[None, image_shape[0],image_shape[1],image_shape[2]], name='x')\n",
    "\n",
    "\n",
    "def neural_net_label_input(n_classes):\n",
    "    \"\"\"\n",
    "    Return a Tensor for a batch of label input\n",
    "    : n_classes: Number of classes\n",
    "    : return: Tensor for label input.\n",
    "    \"\"\"\n",
    "    # TODO: Implement Function\n",
    "    return tf.placeholder(tf.float32, shape=(None, n_classes), name='y')\n",
    "\n",
    "\n",
    "def neural_net_keep_prob_input():\n",
    "    \"\"\"\n",
    "    Return a Tensor for keep probability\n",
    "    : return: Tensor for keep probability.\n",
    "    \"\"\"\n",
    "    # TODO: Implement Function\n",
    "    return tf.placeholder(tf.float32, name='keep_prob')\n",
    "\n",
    "\n",
    "\"\"\"\n",
    "DON'T MODIFY ANYTHING IN THIS CELL THAT IS BELOW THIS LINE\n",
    "\"\"\"\n",
    "tf.reset_default_graph()\n",
    "tests.test_nn_image_inputs(neural_net_image_input)\n",
    "tests.test_nn_label_inputs(neural_net_label_input)\n",
    "tests.test_nn_keep_prob_inputs(neural_net_keep_prob_input)"
   ]
  },
  {
   "cell_type": "markdown",
   "metadata": {},
   "source": [
    "### Convolution and Max Pooling Layer\n",
    "Convolution layers have a lot of success with images. For this code cell, you should implement the function `conv2d_maxpool` to apply convolution then max pooling:\n",
    "* Create the weight and bias using `conv_ksize`, `conv_num_outputs` and the shape of `x_tensor`.\n",
    "* Apply a convolution to `x_tensor` using weight and `conv_strides`.\n",
    " * We recommend you use same padding, but you're welcome to use any padding.\n",
    "* Add bias\n",
    "* Add a nonlinear activation to the convolution.\n",
    "* Apply Max Pooling using `pool_ksize` and `pool_strides`.\n",
    " * We recommend you use same padding, but you're welcome to use any padding.\n",
    "\n",
    "**Note:** You **can't** use [TensorFlow Layers](https://www.tensorflow.org/api_docs/python/tf/layers) or [TensorFlow Layers (contrib)](https://www.tensorflow.org/api_guides/python/contrib.layers) for **this** layer, but you can still use TensorFlow's [Neural Network](https://www.tensorflow.org/api_docs/python/tf/nn) package. You may still use the shortcut option for all the **other** layers."
   ]
  },
  {
   "cell_type": "code",
   "execution_count": 16,
   "metadata": {},
   "outputs": [
    {
     "name": "stdout",
     "output_type": "stream",
     "text": [
      "Tests Passed\n"
     ]
    }
   ],
   "source": [
    "def conv2d_maxpool(x_tensor, conv_num_outputs, conv_ksize, conv_strides, pool_ksize, pool_strides):\n",
    "    \"\"\"\n",
    "    Apply convolution then max pooling to x_tensor\n",
    "    :param x_tensor: TensorFlow Tensor\n",
    "    :param conv_num_outputs: Number of outputs for the convolutional layer\n",
    "    :param conv_ksize: kernal size 2-D Tuple for the convolutional layer\n",
    "    :param conv_strides: Stride 2-D Tuple for convolution\n",
    "    :param pool_ksize: kernal size 2-D Tuple for pool\n",
    "    :param pool_strides: Stride 2-D Tuple for pool\n",
    "    : return: A tensor that represents convolution and max pooling of x_tensor\n",
    "    \"\"\"\n",
    "    # TODO: Implement Function\n",
    "    weight = tf.Variable(tf.random_normal([conv_ksize[0], conv_ksize[1], x_tensor.get_shape().as_list()[3], conv_num_outputs], stddev=0.1))\n",
    "    \n",
    "    bias   = tf.Variable(tf.random_normal([conv_num_outputs], stddev=0.1))\n",
    "    \n",
    "    x_tensor = tf.nn.conv2d(x_tensor, weight, [1, conv_strides[0], conv_strides[1], 1], padding='SAME')\n",
    "    \n",
    "    x_tensor = tf.nn.bias_add(x_tensor, bias)\n",
    "    \n",
    "    x_tensor = tf.nn.relu(x_tensor)\n",
    "    \n",
    "    x_tensor = tf.nn.max_pool(x_tensor, [1, pool_ksize[0], pool_ksize[1], 1], [1, pool_strides[0], pool_strides[1], 1], padding='SAME')\n",
    "    \n",
    "    return x_tensor \n",
    "\n",
    "\n",
    "\"\"\"\n",
    "DON'T MODIFY ANYTHING IN THIS CELL THAT IS BELOW THIS LINE\n",
    "\"\"\"\n",
    "tests.test_con_pool(conv2d_maxpool)"
   ]
  },
  {
   "cell_type": "markdown",
   "metadata": {},
   "source": [
    "### Flatten Layer\n",
    "Implement the `flatten` function to change the dimension of `x_tensor` from a 4-D tensor to a 2-D tensor.  The output should be the shape (*Batch Size*, *Flattened Image Size*). Shortcut option: you can use classes from the [TensorFlow Layers](https://www.tensorflow.org/api_docs/python/tf/layers) or [TensorFlow Layers (contrib)](https://www.tensorflow.org/api_guides/python/contrib.layers) packages for this layer. For more of a challenge, only use other TensorFlow packages."
   ]
  },
  {
   "cell_type": "code",
   "execution_count": 17,
   "metadata": {},
   "outputs": [
    {
     "name": "stdout",
     "output_type": "stream",
     "text": [
      "Tests Passed\n"
     ]
    }
   ],
   "source": [
    "def flatten(x_tensor):\n",
    "    \"\"\"\n",
    "    Flatten x_tensor to (Batch Size, Flattened Image Size)\n",
    "    : x_tensor: A tensor of size (Batch Size, ...), where ... are the image dimensions.\n",
    "    : return: A tensor of size (Batch Size, Flattened Image Size).\n",
    "    \"\"\"\n",
    "    # TODO: Implement Function\n",
    "    return tf.contrib.layers.flatten(x_tensor)\n",
    "\n",
    "\n",
    "\"\"\"\n",
    "DON'T MODIFY ANYTHING IN THIS CELL THAT IS BELOW THIS LINE\n",
    "\"\"\"\n",
    "tests.test_flatten(flatten)"
   ]
  },
  {
   "cell_type": "markdown",
   "metadata": {},
   "source": [
    "### Fully-Connected Layer\n",
    "Implement the `fully_conn` function to apply a fully connected layer to `x_tensor` with the shape (*Batch Size*, *num_outputs*). Shortcut option: you can use classes from the [TensorFlow Layers](https://www.tensorflow.org/api_docs/python/tf/layers) or [TensorFlow Layers (contrib)](https://www.tensorflow.org/api_guides/python/contrib.layers) packages for this layer. For more of a challenge, only use other TensorFlow packages."
   ]
  },
  {
   "cell_type": "code",
   "execution_count": 18,
   "metadata": {},
   "outputs": [
    {
     "name": "stdout",
     "output_type": "stream",
     "text": [
      "Tests Passed\n"
     ]
    }
   ],
   "source": [
    "def fully_conn(x_tensor, num_outputs):\n",
    "    \"\"\"\n",
    "    Apply a fully connected layer to x_tensor using weight and bias\n",
    "    : x_tensor: A 2-D tensor where the first dimension is batch size.\n",
    "    : num_outputs: The number of output that the new tensor should be.\n",
    "    : return: A 2-D tensor where the second dimension is num_outputs.\n",
    "    \"\"\"\n",
    "    # TODO: Implement Function\n",
    "    return tf.contrib.layers.fully_connected(x_tensor, num_outputs, tf.nn.relu)\n",
    "\n",
    "\n",
    "\"\"\"\n",
    "DON'T MODIFY ANYTHING IN THIS CELL THAT IS BELOW THIS LINE\n",
    "\"\"\"\n",
    "tests.test_fully_conn(fully_conn)"
   ]
  },
  {
   "cell_type": "markdown",
   "metadata": {},
   "source": [
    "### Output Layer\n",
    "Implement the `output` function to apply a fully connected layer to `x_tensor` with the shape (*Batch Size*, *num_outputs*). Shortcut option: you can use classes from the [TensorFlow Layers](https://www.tensorflow.org/api_docs/python/tf/layers) or [TensorFlow Layers (contrib)](https://www.tensorflow.org/api_guides/python/contrib.layers) packages for this layer. For more of a challenge, only use other TensorFlow packages.\n",
    "\n",
    "**Note:** Activation, softmax, or cross entropy should **not** be applied to this."
   ]
  },
  {
   "cell_type": "code",
   "execution_count": 19,
   "metadata": {},
   "outputs": [
    {
     "name": "stdout",
     "output_type": "stream",
     "text": [
      "Tests Passed\n"
     ]
    }
   ],
   "source": [
    "def output(x_tensor, num_outputs):\n",
    "    \"\"\"\n",
    "    Apply a output layer to x_tensor using weight and bias\n",
    "    : x_tensor: A 2-D tensor where the first dimension is batch size.\n",
    "    : num_outputs: The number of output that the new tensor should be.\n",
    "    : return: A 2-D tensor where the second dimension is num_outputs.\n",
    "    \"\"\"\n",
    "    # TODO: Implement Function\n",
    "    return tf.contrib.layers.fully_connected(x_tensor, num_outputs)\n",
    "\n",
    "\n",
    "\"\"\"\n",
    "DON'T MODIFY ANYTHING IN THIS CELL THAT IS BELOW THIS LINE\n",
    "\"\"\"\n",
    "tests.test_output(output)"
   ]
  },
  {
   "cell_type": "markdown",
   "metadata": {},
   "source": [
    "### Create Convolutional Model\n",
    "Implement the function `conv_net` to create a convolutional neural network model. The function takes in a batch of images, `x`, and outputs logits.  Use the layers you created above to create this model:\n",
    "\n",
    "* Apply 1, 2, or 3 Convolution and Max Pool layers\n",
    "* Apply a Flatten Layer\n",
    "* Apply 1, 2, or 3 Fully Connected Layers\n",
    "* Apply an Output Layer\n",
    "* Return the output\n",
    "* Apply [TensorFlow's Dropout](https://www.tensorflow.org/api_docs/python/tf/nn/dropout) to one or more layers in the model using `keep_prob`. "
   ]
  },
  {
   "cell_type": "code",
   "execution_count": 20,
   "metadata": {},
   "outputs": [
    {
     "name": "stdout",
     "output_type": "stream",
     "text": [
      "Neural Network Built!\n"
     ]
    }
   ],
   "source": [
    "def conv_net(x, keep_prob):\n",
    "    \"\"\"\n",
    "    Create a convolutional neural network model\n",
    "    : x: Placeholder tensor that holds image data.\n",
    "    : keep_prob: Placeholder tensor that hold dropout keep probability.\n",
    "    : return: Tensor that represents logits\n",
    "    \"\"\"\n",
    "    # TODO: Apply 1, 2, or 3 Convolution and Max Pool layers\n",
    "    #    Play around with different number of outputs, kernel size and stride\n",
    "    # Function Definition from Above:\n",
    "    #    conv2d_maxpool(x_tensor, conv_num_outputs, conv_ksize, conv_strides, pool_ksize, pool_strides)\n",
    "    num_conv_layers = 3\n",
    "    conv_num_outputs = [16, 32, 64]\n",
    "    conv_ksizes = [[3, 3], [3, 3], [3, 3]]\n",
    "    conv_strides = [[1, 1], [1, 1], [1, 1]]\n",
    "    pool_ksizes = [[2, 2], [2, 2], [2, 2]]\n",
    "    pool_strides = [[2, 2], [2, 2], [2, 2]]\n",
    "    \n",
    "    conv_layer = x\n",
    "    for i in range(num_conv_layers):\n",
    "        conv_layer = conv2d_maxpool(\n",
    "            conv_layer,\n",
    "            conv_num_outputs[i],\n",
    "            conv_ksizes[i],\n",
    "            conv_strides[i],\n",
    "            pool_ksizes[i],\n",
    "            pool_strides[i]\n",
    "        )\n",
    "\n",
    "    # TODO: Apply a Flatten Layer\n",
    "    # Function Definition from Above:\n",
    "    #   flatten(x_tensor)\n",
    "    flatten_layer = flatten(conv_layer)\n",
    "\n",
    "    # TODO: Apply 1, 2, or 3 Fully Connected Layers\n",
    "    #    Play around with different number of outputs\n",
    "    # Function Definition from Above:\n",
    "    #   fully_conn(x_tensor, num_outputs)\n",
    "    num_fully_conn_layers = 1\n",
    "    fully_num_outputs = 10\n",
    "    \n",
    "    fully_conn_layer = flatten_layer\n",
    "    for i in range(num_fully_conn_layers):\n",
    "        fully_conn_layer = fully_conn(fully_conn_layer, fully_num_outputs)\n",
    "        fully_conn_layer = tf.nn.dropout(fully_conn_layer, keep_prob)\n",
    "    \n",
    "    # TODO: Apply an Output Layer\n",
    "    #    Set this to the number of classes\n",
    "    # Function Definition from Above:\n",
    "    #   output(x_tensor, num_outputs)\n",
    "    num_classes = 10\n",
    "    output_layer = output(fully_conn_layer, num_classes)\n",
    "    \n",
    "    # TODO: return output\n",
    "    return output_layer\n",
    "\n",
    "\n",
    "\"\"\"\n",
    "DON'T MODIFY ANYTHING IN THIS CELL THAT IS BELOW THIS LINE\n",
    "\"\"\"\n",
    "\n",
    "##############################\n",
    "## Build the Neural Network ##\n",
    "##############################\n",
    "\n",
    "# Remove previous weights, bias, inputs, etc..\n",
    "tf.reset_default_graph()\n",
    "\n",
    "# Inputs\n",
    "x = neural_net_image_input((32, 32, 3))\n",
    "y = neural_net_label_input(10)\n",
    "keep_prob = neural_net_keep_prob_input()\n",
    "\n",
    "# Model\n",
    "logits = conv_net(x, keep_prob)\n",
    "\n",
    "# Name logits Tensor, so that is can be loaded from disk after training\n",
    "logits = tf.identity(logits, name='logits')\n",
    "\n",
    "# Loss and Optimizer\n",
    "cost = tf.reduce_mean(tf.nn.softmax_cross_entropy_with_logits(logits=logits, labels=y))\n",
    "optimizer = tf.train.AdamOptimizer().minimize(cost)\n",
    "\n",
    "# Accuracy\n",
    "correct_pred = tf.equal(tf.argmax(logits, 1), tf.argmax(y, 1))\n",
    "accuracy = tf.reduce_mean(tf.cast(correct_pred, tf.float32), name='accuracy')\n",
    "\n",
    "tests.test_conv_net(conv_net)"
   ]
  },
  {
   "cell_type": "markdown",
   "metadata": {},
   "source": [
    "## Train the Neural Network\n",
    "### Single Optimization\n",
    "Implement the function `train_neural_network` to do a single optimization.  The optimization should use `optimizer` to optimize in `session` with a `feed_dict` of the following:\n",
    "* `x` for image input\n",
    "* `y` for labels\n",
    "* `keep_prob` for keep probability for dropout\n",
    "\n",
    "This function will be called for each batch, so `tf.global_variables_initializer()` has already been called.\n",
    "\n",
    "Note: Nothing needs to be returned. This function is only optimizing the neural network."
   ]
  },
  {
   "cell_type": "code",
   "execution_count": 21,
   "metadata": {},
   "outputs": [
    {
     "name": "stdout",
     "output_type": "stream",
     "text": [
      "Tests Passed\n"
     ]
    }
   ],
   "source": [
    "def train_neural_network(session, optimizer, keep_probability, feature_batch, label_batch):\n",
    "    \"\"\"\n",
    "    Optimize the session on a batch of images and labels\n",
    "    : session: Current TensorFlow session\n",
    "    : optimizer: TensorFlow optimizer function\n",
    "    : keep_probability: keep probability\n",
    "    : feature_batch: Batch of Numpy image data\n",
    "    : label_batch: Batch of Numpy label data\n",
    "    \"\"\"\n",
    "    # TODO: Implement Function\n",
    "    session.run(optimizer, feed_dict={\n",
    "        x: feature_batch,\n",
    "        y: label_batch,\n",
    "        keep_prob: keep_probability\n",
    "    })\n",
    "\n",
    "\n",
    "\"\"\"\n",
    "DON'T MODIFY ANYTHING IN THIS CELL THAT IS BELOW THIS LINE\n",
    "\"\"\"\n",
    "tests.test_train_nn(train_neural_network)"
   ]
  },
  {
   "cell_type": "markdown",
   "metadata": {},
   "source": [
    "### Show Stats\n",
    "Implement the function `print_stats` to print loss and validation accuracy.  Use the global variables `valid_features` and `valid_labels` to calculate validation accuracy.  Use a keep probability of `1.0` to calculate the loss and validation accuracy."
   ]
  },
  {
   "cell_type": "code",
   "execution_count": 22,
   "metadata": {
    "collapsed": true
   },
   "outputs": [],
   "source": [
    "def print_stats(session, feature_batch, label_batch, cost, accuracy):\n",
    "    \"\"\"\n",
    "    Print information about loss and validation accuracy\n",
    "    : session: Current TensorFlow session\n",
    "    : feature_batch: Batch of Numpy image data\n",
    "    : label_batch: Batch of Numpy label data\n",
    "    : cost: TensorFlow cost function\n",
    "    : accuracy: TensorFlow accuracy function\n",
    "    \"\"\"\n",
    "    # TODO: Implement Function\n",
    "    loss = session.run(cost, feed_dict={\n",
    "        x: feature_batch,\n",
    "        y: label_batch,\n",
    "        keep_prob: 1.\n",
    "    })\n",
    "    \n",
    "    valid_accuracy = session.run(accuracy, feed_dict={\n",
    "        x: valid_features,\n",
    "        y: valid_labels,\n",
    "        keep_prob: 1.\n",
    "    })\n",
    "    \n",
    "    print('Loss: {:>10.4f} Validation Accuracy: {:.6f}'.format(\n",
    "        loss, valid_accuracy\n",
    "    ))"
   ]
  },
  {
   "cell_type": "markdown",
   "metadata": {},
   "source": [
    "### Hyperparameters\n",
    "Tune the following parameters:\n",
    "* Set `epochs` to the number of iterations until the network stops learning or start overfitting\n",
    "* Set `batch_size` to the highest number that your machine has memory for.  Most people set them to common sizes of memory:\n",
    " * 64\n",
    " * 128\n",
    " * 256\n",
    " * ...\n",
    "* Set `keep_probability` to the probability of keeping a node using dropout"
   ]
  },
  {
   "cell_type": "code",
   "execution_count": 33,
   "metadata": {
    "collapsed": true
   },
   "outputs": [],
   "source": [
    "# TODO: Tune Parameters\n",
    "epochs = 50\n",
    "batch_size = 128\n",
    "keep_probability = 0.75"
   ]
  },
  {
   "cell_type": "markdown",
   "metadata": {},
   "source": [
    "### Train on a Single CIFAR-10 Batch\n",
    "Instead of training the neural network on all the CIFAR-10 batches of data, let's use a single batch. This should save time while you iterate on the model to get a better accuracy.  Once the final validation accuracy is 50% or greater, run the model on all the data in the next section."
   ]
  },
  {
   "cell_type": "code",
   "execution_count": 34,
   "metadata": {},
   "outputs": [
    {
     "name": "stdout",
     "output_type": "stream",
     "text": [
      "Checking the Training on a Single Batch...\n",
      "Epoch  1, CIFAR-10 Batch 1:  Loss:     2.2252 Validation Accuracy: 0.212800\n",
      "Epoch  2, CIFAR-10 Batch 1:  Loss:     2.1451 Validation Accuracy: 0.257800\n",
      "Epoch  3, CIFAR-10 Batch 1:  Loss:     2.0771 Validation Accuracy: 0.302000\n",
      "Epoch  4, CIFAR-10 Batch 1:  Loss:     2.0347 Validation Accuracy: 0.312200\n",
      "Epoch  5, CIFAR-10 Batch 1:  Loss:     2.0037 Validation Accuracy: 0.324400\n",
      "Epoch  6, CIFAR-10 Batch 1:  Loss:     1.9332 Validation Accuracy: 0.340200\n",
      "Epoch  7, CIFAR-10 Batch 1:  Loss:     1.8927 Validation Accuracy: 0.357600\n",
      "Epoch  8, CIFAR-10 Batch 1:  Loss:     1.8519 Validation Accuracy: 0.368200\n",
      "Epoch  9, CIFAR-10 Batch 1:  Loss:     1.7969 Validation Accuracy: 0.372200\n",
      "Epoch 10, CIFAR-10 Batch 1:  Loss:     1.7261 Validation Accuracy: 0.384600\n",
      "Epoch 11, CIFAR-10 Batch 1:  Loss:     1.7010 Validation Accuracy: 0.380800\n",
      "Epoch 12, CIFAR-10 Batch 1:  Loss:     1.6557 Validation Accuracy: 0.375600\n",
      "Epoch 13, CIFAR-10 Batch 1:  Loss:     1.6325 Validation Accuracy: 0.388000\n",
      "Epoch 14, CIFAR-10 Batch 1:  Loss:     1.5343 Validation Accuracy: 0.407800\n",
      "Epoch 15, CIFAR-10 Batch 1:  Loss:     1.4667 Validation Accuracy: 0.448600\n",
      "Epoch 16, CIFAR-10 Batch 1:  Loss:     1.4126 Validation Accuracy: 0.440600\n",
      "Epoch 17, CIFAR-10 Batch 1:  Loss:     1.3968 Validation Accuracy: 0.446200\n",
      "Epoch 18, CIFAR-10 Batch 1:  Loss:     1.3447 Validation Accuracy: 0.444400\n",
      "Epoch 19, CIFAR-10 Batch 1:  Loss:     1.3196 Validation Accuracy: 0.452600\n",
      "Epoch 20, CIFAR-10 Batch 1:  Loss:     1.3794 Validation Accuracy: 0.462400\n",
      "Epoch 21, CIFAR-10 Batch 1:  Loss:     1.3267 Validation Accuracy: 0.467200\n",
      "Epoch 22, CIFAR-10 Batch 1:  Loss:     1.3198 Validation Accuracy: 0.459200\n",
      "Epoch 23, CIFAR-10 Batch 1:  Loss:     1.2639 Validation Accuracy: 0.466600\n",
      "Epoch 24, CIFAR-10 Batch 1:  Loss:     1.2638 Validation Accuracy: 0.469000\n",
      "Epoch 25, CIFAR-10 Batch 1:  Loss:     1.2356 Validation Accuracy: 0.465400\n",
      "Epoch 26, CIFAR-10 Batch 1:  Loss:     1.2185 Validation Accuracy: 0.465400\n",
      "Epoch 27, CIFAR-10 Batch 1:  Loss:     1.2027 Validation Accuracy: 0.463000\n",
      "Epoch 28, CIFAR-10 Batch 1:  Loss:     1.2032 Validation Accuracy: 0.462600\n",
      "Epoch 29, CIFAR-10 Batch 1:  Loss:     1.1635 Validation Accuracy: 0.463600\n",
      "Epoch 30, CIFAR-10 Batch 1:  Loss:     1.1311 Validation Accuracy: 0.466600\n",
      "Epoch 31, CIFAR-10 Batch 1:  Loss:     1.0991 Validation Accuracy: 0.482600\n",
      "Epoch 32, CIFAR-10 Batch 1:  Loss:     1.1383 Validation Accuracy: 0.475000\n",
      "Epoch 33, CIFAR-10 Batch 1:  Loss:     1.1831 Validation Accuracy: 0.465400\n",
      "Epoch 34, CIFAR-10 Batch 1:  Loss:     1.1096 Validation Accuracy: 0.474000\n",
      "Epoch 35, CIFAR-10 Batch 1:  Loss:     1.0952 Validation Accuracy: 0.478400\n",
      "Epoch 36, CIFAR-10 Batch 1:  Loss:     1.0677 Validation Accuracy: 0.483600\n",
      "Epoch 37, CIFAR-10 Batch 1:  Loss:     1.0742 Validation Accuracy: 0.477800\n",
      "Epoch 38, CIFAR-10 Batch 1:  Loss:     1.0461 Validation Accuracy: 0.475800\n",
      "Epoch 39, CIFAR-10 Batch 1:  Loss:     1.0447 Validation Accuracy: 0.487000\n",
      "Epoch 40, CIFAR-10 Batch 1:  Loss:     1.0363 Validation Accuracy: 0.481600\n",
      "Epoch 41, CIFAR-10 Batch 1:  Loss:     1.0444 Validation Accuracy: 0.481400\n",
      "Epoch 42, CIFAR-10 Batch 1:  Loss:     1.0309 Validation Accuracy: 0.483200\n",
      "Epoch 43, CIFAR-10 Batch 1:  Loss:     1.0080 Validation Accuracy: 0.482800\n",
      "Epoch 44, CIFAR-10 Batch 1:  Loss:     1.0248 Validation Accuracy: 0.480800\n",
      "Epoch 45, CIFAR-10 Batch 1:  Loss:     1.0483 Validation Accuracy: 0.467000\n",
      "Epoch 46, CIFAR-10 Batch 1:  Loss:     1.0133 Validation Accuracy: 0.476600\n",
      "Epoch 47, CIFAR-10 Batch 1:  Loss:     1.0495 Validation Accuracy: 0.473800\n",
      "Epoch 48, CIFAR-10 Batch 1:  Loss:     1.0001 Validation Accuracy: 0.478400\n",
      "Epoch 49, CIFAR-10 Batch 1:  Loss:     1.0142 Validation Accuracy: 0.467800\n",
      "Epoch 50, CIFAR-10 Batch 1:  Loss:     0.9857 Validation Accuracy: 0.472400\n"
     ]
    }
   ],
   "source": [
    "\"\"\"\n",
    "DON'T MODIFY ANYTHING IN THIS CELL\n",
    "\"\"\"\n",
    "print('Checking the Training on a Single Batch...')\n",
    "with tf.Session() as sess:\n",
    "    # Initializing the variables\n",
    "    sess.run(tf.global_variables_initializer())\n",
    "    \n",
    "    # Training cycle\n",
    "    for epoch in range(epochs):\n",
    "        batch_i = 1\n",
    "        for batch_features, batch_labels in helper.load_preprocess_training_batch(batch_i, batch_size):\n",
    "            train_neural_network(sess, optimizer, keep_probability, batch_features, batch_labels)\n",
    "        print('Epoch {:>2}, CIFAR-10 Batch {}:  '.format(epoch + 1, batch_i), end='')\n",
    "        print_stats(sess, batch_features, batch_labels, cost, accuracy)"
   ]
  },
  {
   "cell_type": "markdown",
   "metadata": {},
   "source": [
    "### Fully Train the Model\n",
    "Now that you got a good accuracy with a single CIFAR-10 batch, try it with all five batches."
   ]
  },
  {
   "cell_type": "code",
   "execution_count": 35,
   "metadata": {},
   "outputs": [
    {
     "name": "stdout",
     "output_type": "stream",
     "text": [
      "Training...\n",
      "Epoch  1, CIFAR-10 Batch 1:  Loss:     2.2832 Validation Accuracy: 0.184800\n",
      "Epoch  1, CIFAR-10 Batch 2:  Loss:     2.0641 Validation Accuracy: 0.216600\n",
      "Epoch  1, CIFAR-10 Batch 3:  Loss:     2.0634 Validation Accuracy: 0.257000\n",
      "Epoch  1, CIFAR-10 Batch 4:  Loss:     2.0390 Validation Accuracy: 0.271400\n",
      "Epoch  1, CIFAR-10 Batch 5:  Loss:     2.1111 Validation Accuracy: 0.252400\n",
      "Epoch  2, CIFAR-10 Batch 1:  Loss:     2.0546 Validation Accuracy: 0.298800\n",
      "Epoch  2, CIFAR-10 Batch 2:  Loss:     1.8696 Validation Accuracy: 0.279200\n",
      "Epoch  2, CIFAR-10 Batch 3:  Loss:     1.7984 Validation Accuracy: 0.301800\n",
      "Epoch  2, CIFAR-10 Batch 4:  Loss:     1.8173 Validation Accuracy: 0.316400\n",
      "Epoch  2, CIFAR-10 Batch 5:  Loss:     1.9483 Validation Accuracy: 0.387200\n",
      "Epoch  3, CIFAR-10 Batch 1:  Loss:     1.8710 Validation Accuracy: 0.397600\n",
      "Epoch  3, CIFAR-10 Batch 2:  Loss:     1.6706 Validation Accuracy: 0.390800\n",
      "Epoch  3, CIFAR-10 Batch 3:  Loss:     1.3822 Validation Accuracy: 0.388200\n",
      "Epoch  3, CIFAR-10 Batch 4:  Loss:     1.6091 Validation Accuracy: 0.424200\n",
      "Epoch  3, CIFAR-10 Batch 5:  Loss:     1.7083 Validation Accuracy: 0.446600\n",
      "Epoch  4, CIFAR-10 Batch 1:  Loss:     1.6732 Validation Accuracy: 0.429600\n",
      "Epoch  4, CIFAR-10 Batch 2:  Loss:     1.5381 Validation Accuracy: 0.437600\n",
      "Epoch  4, CIFAR-10 Batch 3:  Loss:     1.1915 Validation Accuracy: 0.445000\n",
      "Epoch  4, CIFAR-10 Batch 4:  Loss:     1.4736 Validation Accuracy: 0.456400\n",
      "Epoch  4, CIFAR-10 Batch 5:  Loss:     1.6017 Validation Accuracy: 0.444800\n",
      "Epoch  5, CIFAR-10 Batch 1:  Loss:     1.6213 Validation Accuracy: 0.461400\n",
      "Epoch  5, CIFAR-10 Batch 2:  Loss:     1.5551 Validation Accuracy: 0.436200\n",
      "Epoch  5, CIFAR-10 Batch 3:  Loss:     1.2017 Validation Accuracy: 0.461200\n",
      "Epoch  5, CIFAR-10 Batch 4:  Loss:     1.4300 Validation Accuracy: 0.475000\n",
      "Epoch  5, CIFAR-10 Batch 5:  Loss:     1.5053 Validation Accuracy: 0.475400\n",
      "Epoch  6, CIFAR-10 Batch 1:  Loss:     1.5714 Validation Accuracy: 0.478000\n",
      "Epoch  6, CIFAR-10 Batch 2:  Loss:     1.4669 Validation Accuracy: 0.458600\n",
      "Epoch  6, CIFAR-10 Batch 3:  Loss:     1.1808 Validation Accuracy: 0.481400\n",
      "Epoch  6, CIFAR-10 Batch 4:  Loss:     1.4376 Validation Accuracy: 0.482200\n",
      "Epoch  6, CIFAR-10 Batch 5:  Loss:     1.4145 Validation Accuracy: 0.481600\n",
      "Epoch  7, CIFAR-10 Batch 1:  Loss:     1.5478 Validation Accuracy: 0.482000\n",
      "Epoch  7, CIFAR-10 Batch 2:  Loss:     1.3811 Validation Accuracy: 0.478400\n",
      "Epoch  7, CIFAR-10 Batch 3:  Loss:     1.1823 Validation Accuracy: 0.487400\n",
      "Epoch  7, CIFAR-10 Batch 4:  Loss:     1.3545 Validation Accuracy: 0.490400\n",
      "Epoch  7, CIFAR-10 Batch 5:  Loss:     1.4098 Validation Accuracy: 0.487800\n",
      "Epoch  8, CIFAR-10 Batch 1:  Loss:     1.4775 Validation Accuracy: 0.500600\n",
      "Epoch  8, CIFAR-10 Batch 2:  Loss:     1.3638 Validation Accuracy: 0.476200\n",
      "Epoch  8, CIFAR-10 Batch 3:  Loss:     1.1699 Validation Accuracy: 0.501200\n",
      "Epoch  8, CIFAR-10 Batch 4:  Loss:     1.3329 Validation Accuracy: 0.498400\n",
      "Epoch  8, CIFAR-10 Batch 5:  Loss:     1.3686 Validation Accuracy: 0.503200\n",
      "Epoch  9, CIFAR-10 Batch 1:  Loss:     1.4406 Validation Accuracy: 0.504200\n",
      "Epoch  9, CIFAR-10 Batch 2:  Loss:     1.3600 Validation Accuracy: 0.480400\n",
      "Epoch  9, CIFAR-10 Batch 3:  Loss:     1.1156 Validation Accuracy: 0.503600\n",
      "Epoch  9, CIFAR-10 Batch 4:  Loss:     1.3333 Validation Accuracy: 0.501400\n",
      "Epoch  9, CIFAR-10 Batch 5:  Loss:     1.3738 Validation Accuracy: 0.503800\n",
      "Epoch 10, CIFAR-10 Batch 1:  Loss:     1.4485 Validation Accuracy: 0.501200\n",
      "Epoch 10, CIFAR-10 Batch 2:  Loss:     1.3979 Validation Accuracy: 0.487400\n",
      "Epoch 10, CIFAR-10 Batch 3:  Loss:     1.1123 Validation Accuracy: 0.516000\n",
      "Epoch 10, CIFAR-10 Batch 4:  Loss:     1.3420 Validation Accuracy: 0.498800\n",
      "Epoch 10, CIFAR-10 Batch 5:  Loss:     1.3190 Validation Accuracy: 0.515000\n",
      "Epoch 11, CIFAR-10 Batch 1:  Loss:     1.3521 Validation Accuracy: 0.521000\n",
      "Epoch 11, CIFAR-10 Batch 2:  Loss:     1.2953 Validation Accuracy: 0.506800\n",
      "Epoch 11, CIFAR-10 Batch 3:  Loss:     1.0518 Validation Accuracy: 0.526800\n",
      "Epoch 11, CIFAR-10 Batch 4:  Loss:     1.2319 Validation Accuracy: 0.522600\n",
      "Epoch 11, CIFAR-10 Batch 5:  Loss:     1.2667 Validation Accuracy: 0.536400\n",
      "Epoch 12, CIFAR-10 Batch 1:  Loss:     1.3907 Validation Accuracy: 0.505400\n",
      "Epoch 12, CIFAR-10 Batch 2:  Loss:     1.2928 Validation Accuracy: 0.515000\n",
      "Epoch 12, CIFAR-10 Batch 3:  Loss:     1.0413 Validation Accuracy: 0.527400\n",
      "Epoch 12, CIFAR-10 Batch 4:  Loss:     1.2368 Validation Accuracy: 0.529200\n",
      "Epoch 12, CIFAR-10 Batch 5:  Loss:     1.2352 Validation Accuracy: 0.526200\n",
      "Epoch 13, CIFAR-10 Batch 1:  Loss:     1.2760 Validation Accuracy: 0.526200\n",
      "Epoch 13, CIFAR-10 Batch 2:  Loss:     1.2511 Validation Accuracy: 0.514800\n",
      "Epoch 13, CIFAR-10 Batch 3:  Loss:     1.0271 Validation Accuracy: 0.537000\n",
      "Epoch 13, CIFAR-10 Batch 4:  Loss:     1.2003 Validation Accuracy: 0.530600\n",
      "Epoch 13, CIFAR-10 Batch 5:  Loss:     1.2010 Validation Accuracy: 0.534400\n",
      "Epoch 14, CIFAR-10 Batch 1:  Loss:     1.2615 Validation Accuracy: 0.543600\n",
      "Epoch 14, CIFAR-10 Batch 2:  Loss:     1.1805 Validation Accuracy: 0.532400\n",
      "Epoch 14, CIFAR-10 Batch 3:  Loss:     0.9886 Validation Accuracy: 0.547000\n",
      "Epoch 14, CIFAR-10 Batch 4:  Loss:     1.2250 Validation Accuracy: 0.543400\n",
      "Epoch 14, CIFAR-10 Batch 5:  Loss:     1.2428 Validation Accuracy: 0.540200\n",
      "Epoch 15, CIFAR-10 Batch 1:  Loss:     1.2073 Validation Accuracy: 0.547200\n",
      "Epoch 15, CIFAR-10 Batch 2:  Loss:     1.1700 Validation Accuracy: 0.537200\n",
      "Epoch 15, CIFAR-10 Batch 3:  Loss:     0.9940 Validation Accuracy: 0.548600\n",
      "Epoch 15, CIFAR-10 Batch 4:  Loss:     1.1528 Validation Accuracy: 0.541200\n",
      "Epoch 15, CIFAR-10 Batch 5:  Loss:     1.1825 Validation Accuracy: 0.548200\n",
      "Epoch 16, CIFAR-10 Batch 1:  Loss:     1.1995 Validation Accuracy: 0.544600\n",
      "Epoch 16, CIFAR-10 Batch 2:  Loss:     1.1197 Validation Accuracy: 0.529800\n",
      "Epoch 16, CIFAR-10 Batch 3:  Loss:     0.9855 Validation Accuracy: 0.564400\n",
      "Epoch 16, CIFAR-10 Batch 4:  Loss:     1.1417 Validation Accuracy: 0.553600\n",
      "Epoch 16, CIFAR-10 Batch 5:  Loss:     1.1229 Validation Accuracy: 0.560400\n",
      "Epoch 17, CIFAR-10 Batch 1:  Loss:     1.2324 Validation Accuracy: 0.549800\n",
      "Epoch 17, CIFAR-10 Batch 2:  Loss:     1.1055 Validation Accuracy: 0.555000\n",
      "Epoch 17, CIFAR-10 Batch 3:  Loss:     1.0095 Validation Accuracy: 0.564200\n",
      "Epoch 17, CIFAR-10 Batch 4:  Loss:     1.1081 Validation Accuracy: 0.557600\n",
      "Epoch 17, CIFAR-10 Batch 5:  Loss:     1.1017 Validation Accuracy: 0.565800\n",
      "Epoch 18, CIFAR-10 Batch 1:  Loss:     1.1714 Validation Accuracy: 0.561600\n",
      "Epoch 18, CIFAR-10 Batch 2:  Loss:     1.0889 Validation Accuracy: 0.554000\n",
      "Epoch 18, CIFAR-10 Batch 3:  Loss:     0.9090 Validation Accuracy: 0.578000\n",
      "Epoch 18, CIFAR-10 Batch 4:  Loss:     1.0992 Validation Accuracy: 0.565200\n",
      "Epoch 18, CIFAR-10 Batch 5:  Loss:     1.0659 Validation Accuracy: 0.562600\n",
      "Epoch 19, CIFAR-10 Batch 1:  Loss:     1.0601 Validation Accuracy: 0.561400\n",
      "Epoch 19, CIFAR-10 Batch 2:  Loss:     1.1034 Validation Accuracy: 0.536400\n",
      "Epoch 19, CIFAR-10 Batch 3:  Loss:     0.8605 Validation Accuracy: 0.580000\n",
      "Epoch 19, CIFAR-10 Batch 4:  Loss:     1.0935 Validation Accuracy: 0.565800\n",
      "Epoch 19, CIFAR-10 Batch 5:  Loss:     1.0570 Validation Accuracy: 0.565600\n",
      "Epoch 20, CIFAR-10 Batch 1:  Loss:     1.0837 Validation Accuracy: 0.558800\n",
      "Epoch 20, CIFAR-10 Batch 2:  Loss:     1.0814 Validation Accuracy: 0.548800\n",
      "Epoch 20, CIFAR-10 Batch 3:  Loss:     0.8966 Validation Accuracy: 0.573400\n",
      "Epoch 20, CIFAR-10 Batch 4:  Loss:     1.0868 Validation Accuracy: 0.563400\n",
      "Epoch 20, CIFAR-10 Batch 5:  Loss:     1.0696 Validation Accuracy: 0.567000\n",
      "Epoch 21, CIFAR-10 Batch 1:  Loss:     1.0735 Validation Accuracy: 0.577600\n",
      "Epoch 21, CIFAR-10 Batch 2:  Loss:     1.0476 Validation Accuracy: 0.555600\n",
      "Epoch 21, CIFAR-10 Batch 3:  Loss:     0.9082 Validation Accuracy: 0.580600\n",
      "Epoch 21, CIFAR-10 Batch 4:  Loss:     1.0831 Validation Accuracy: 0.567800\n",
      "Epoch 21, CIFAR-10 Batch 5:  Loss:     1.0097 Validation Accuracy: 0.581200\n",
      "Epoch 22, CIFAR-10 Batch 1:  Loss:     1.0018 Validation Accuracy: 0.576000\n",
      "Epoch 22, CIFAR-10 Batch 2:  Loss:     1.0635 Validation Accuracy: 0.537400\n",
      "Epoch 22, CIFAR-10 Batch 3:  Loss:     0.8597 Validation Accuracy: 0.587200\n"
     ]
    },
    {
     "name": "stdout",
     "output_type": "stream",
     "text": [
      "Epoch 22, CIFAR-10 Batch 4:  Loss:     1.0271 Validation Accuracy: 0.575000\n",
      "Epoch 22, CIFAR-10 Batch 5:  Loss:     1.0310 Validation Accuracy: 0.578400\n",
      "Epoch 23, CIFAR-10 Batch 1:  Loss:     1.0702 Validation Accuracy: 0.559400\n",
      "Epoch 23, CIFAR-10 Batch 2:  Loss:     1.0453 Validation Accuracy: 0.546600\n",
      "Epoch 23, CIFAR-10 Batch 3:  Loss:     0.8948 Validation Accuracy: 0.576000\n",
      "Epoch 23, CIFAR-10 Batch 4:  Loss:     1.0006 Validation Accuracy: 0.579200\n",
      "Epoch 23, CIFAR-10 Batch 5:  Loss:     1.0127 Validation Accuracy: 0.571200\n",
      "Epoch 24, CIFAR-10 Batch 1:  Loss:     1.0178 Validation Accuracy: 0.580400\n",
      "Epoch 24, CIFAR-10 Batch 2:  Loss:     1.0117 Validation Accuracy: 0.560600\n",
      "Epoch 24, CIFAR-10 Batch 3:  Loss:     0.8422 Validation Accuracy: 0.586000\n",
      "Epoch 24, CIFAR-10 Batch 4:  Loss:     1.0212 Validation Accuracy: 0.571800\n",
      "Epoch 24, CIFAR-10 Batch 5:  Loss:     0.9709 Validation Accuracy: 0.575200\n",
      "Epoch 25, CIFAR-10 Batch 1:  Loss:     0.9527 Validation Accuracy: 0.583000\n",
      "Epoch 25, CIFAR-10 Batch 2:  Loss:     0.9675 Validation Accuracy: 0.573600\n",
      "Epoch 25, CIFAR-10 Batch 3:  Loss:     0.8161 Validation Accuracy: 0.585400\n",
      "Epoch 25, CIFAR-10 Batch 4:  Loss:     0.9505 Validation Accuracy: 0.593600\n",
      "Epoch 25, CIFAR-10 Batch 5:  Loss:     0.9170 Validation Accuracy: 0.588800\n",
      "Epoch 26, CIFAR-10 Batch 1:  Loss:     0.9515 Validation Accuracy: 0.583200\n",
      "Epoch 26, CIFAR-10 Batch 2:  Loss:     0.9776 Validation Accuracy: 0.565800\n",
      "Epoch 26, CIFAR-10 Batch 3:  Loss:     0.7969 Validation Accuracy: 0.591400\n",
      "Epoch 26, CIFAR-10 Batch 4:  Loss:     0.9557 Validation Accuracy: 0.591400\n",
      "Epoch 26, CIFAR-10 Batch 5:  Loss:     0.9687 Validation Accuracy: 0.584800\n",
      "Epoch 27, CIFAR-10 Batch 1:  Loss:     0.8778 Validation Accuracy: 0.583200\n",
      "Epoch 27, CIFAR-10 Batch 2:  Loss:     0.9123 Validation Accuracy: 0.571200\n",
      "Epoch 27, CIFAR-10 Batch 3:  Loss:     0.7597 Validation Accuracy: 0.600000\n",
      "Epoch 27, CIFAR-10 Batch 4:  Loss:     0.9177 Validation Accuracy: 0.593200\n",
      "Epoch 27, CIFAR-10 Batch 5:  Loss:     0.9084 Validation Accuracy: 0.591200\n",
      "Epoch 28, CIFAR-10 Batch 1:  Loss:     0.8484 Validation Accuracy: 0.588800\n",
      "Epoch 28, CIFAR-10 Batch 2:  Loss:     0.8917 Validation Accuracy: 0.570000\n",
      "Epoch 28, CIFAR-10 Batch 3:  Loss:     0.7706 Validation Accuracy: 0.592000\n",
      "Epoch 28, CIFAR-10 Batch 4:  Loss:     0.9858 Validation Accuracy: 0.589400\n",
      "Epoch 28, CIFAR-10 Batch 5:  Loss:     0.9109 Validation Accuracy: 0.589400\n",
      "Epoch 29, CIFAR-10 Batch 1:  Loss:     0.9124 Validation Accuracy: 0.593000\n",
      "Epoch 29, CIFAR-10 Batch 2:  Loss:     0.8251 Validation Accuracy: 0.594000\n",
      "Epoch 29, CIFAR-10 Batch 3:  Loss:     0.7582 Validation Accuracy: 0.595600\n",
      "Epoch 29, CIFAR-10 Batch 4:  Loss:     0.9215 Validation Accuracy: 0.593400\n",
      "Epoch 29, CIFAR-10 Batch 5:  Loss:     0.8678 Validation Accuracy: 0.585000\n",
      "Epoch 30, CIFAR-10 Batch 1:  Loss:     0.9006 Validation Accuracy: 0.590400\n",
      "Epoch 30, CIFAR-10 Batch 2:  Loss:     0.8894 Validation Accuracy: 0.576000\n",
      "Epoch 30, CIFAR-10 Batch 3:  Loss:     0.7557 Validation Accuracy: 0.599800\n",
      "Epoch 30, CIFAR-10 Batch 4:  Loss:     0.8799 Validation Accuracy: 0.598800\n",
      "Epoch 30, CIFAR-10 Batch 5:  Loss:     0.8301 Validation Accuracy: 0.584400\n",
      "Epoch 31, CIFAR-10 Batch 1:  Loss:     0.8983 Validation Accuracy: 0.592000\n",
      "Epoch 31, CIFAR-10 Batch 2:  Loss:     0.8690 Validation Accuracy: 0.595600\n",
      "Epoch 31, CIFAR-10 Batch 3:  Loss:     0.7475 Validation Accuracy: 0.587600\n",
      "Epoch 31, CIFAR-10 Batch 4:  Loss:     0.9260 Validation Accuracy: 0.593200\n",
      "Epoch 31, CIFAR-10 Batch 5:  Loss:     0.8606 Validation Accuracy: 0.592800\n",
      "Epoch 32, CIFAR-10 Batch 1:  Loss:     0.8756 Validation Accuracy: 0.587200\n",
      "Epoch 32, CIFAR-10 Batch 2:  Loss:     0.8297 Validation Accuracy: 0.595200\n",
      "Epoch 32, CIFAR-10 Batch 3:  Loss:     0.7526 Validation Accuracy: 0.587800\n",
      "Epoch 32, CIFAR-10 Batch 4:  Loss:     0.9222 Validation Accuracy: 0.589600\n",
      "Epoch 32, CIFAR-10 Batch 5:  Loss:     0.8258 Validation Accuracy: 0.597000\n",
      "Epoch 33, CIFAR-10 Batch 1:  Loss:     0.8494 Validation Accuracy: 0.585400\n",
      "Epoch 33, CIFAR-10 Batch 2:  Loss:     0.8236 Validation Accuracy: 0.592600\n",
      "Epoch 33, CIFAR-10 Batch 3:  Loss:     0.7462 Validation Accuracy: 0.588400\n",
      "Epoch 33, CIFAR-10 Batch 4:  Loss:     0.8816 Validation Accuracy: 0.598200\n",
      "Epoch 33, CIFAR-10 Batch 5:  Loss:     0.8864 Validation Accuracy: 0.595800\n",
      "Epoch 34, CIFAR-10 Batch 1:  Loss:     0.8549 Validation Accuracy: 0.578200\n",
      "Epoch 34, CIFAR-10 Batch 2:  Loss:     0.8392 Validation Accuracy: 0.585200\n",
      "Epoch 34, CIFAR-10 Batch 3:  Loss:     0.6718 Validation Accuracy: 0.605600\n",
      "Epoch 34, CIFAR-10 Batch 4:  Loss:     0.8755 Validation Accuracy: 0.592800\n",
      "Epoch 34, CIFAR-10 Batch 5:  Loss:     0.8070 Validation Accuracy: 0.596200\n",
      "Epoch 35, CIFAR-10 Batch 1:  Loss:     0.8189 Validation Accuracy: 0.585200\n",
      "Epoch 35, CIFAR-10 Batch 2:  Loss:     0.8046 Validation Accuracy: 0.597000\n",
      "Epoch 35, CIFAR-10 Batch 3:  Loss:     0.7183 Validation Accuracy: 0.600200\n",
      "Epoch 35, CIFAR-10 Batch 4:  Loss:     0.8902 Validation Accuracy: 0.598200\n",
      "Epoch 35, CIFAR-10 Batch 5:  Loss:     0.8064 Validation Accuracy: 0.602000\n",
      "Epoch 36, CIFAR-10 Batch 1:  Loss:     0.7983 Validation Accuracy: 0.577000\n",
      "Epoch 36, CIFAR-10 Batch 2:  Loss:     0.7737 Validation Accuracy: 0.607400\n",
      "Epoch 36, CIFAR-10 Batch 3:  Loss:     0.7656 Validation Accuracy: 0.595400\n",
      "Epoch 36, CIFAR-10 Batch 4:  Loss:     0.7974 Validation Accuracy: 0.601400\n",
      "Epoch 36, CIFAR-10 Batch 5:  Loss:     0.8138 Validation Accuracy: 0.600400\n",
      "Epoch 37, CIFAR-10 Batch 1:  Loss:     0.8016 Validation Accuracy: 0.590200\n",
      "Epoch 37, CIFAR-10 Batch 2:  Loss:     0.7782 Validation Accuracy: 0.604400\n",
      "Epoch 37, CIFAR-10 Batch 3:  Loss:     0.6417 Validation Accuracy: 0.601800\n",
      "Epoch 37, CIFAR-10 Batch 4:  Loss:     0.8062 Validation Accuracy: 0.602200\n",
      "Epoch 37, CIFAR-10 Batch 5:  Loss:     0.7539 Validation Accuracy: 0.599800\n",
      "Epoch 38, CIFAR-10 Batch 1:  Loss:     0.7766 Validation Accuracy: 0.585200\n",
      "Epoch 38, CIFAR-10 Batch 2:  Loss:     0.7643 Validation Accuracy: 0.607400\n",
      "Epoch 38, CIFAR-10 Batch 3:  Loss:     0.6564 Validation Accuracy: 0.601800\n",
      "Epoch 38, CIFAR-10 Batch 4:  Loss:     0.7877 Validation Accuracy: 0.600000\n",
      "Epoch 38, CIFAR-10 Batch 5:  Loss:     0.7769 Validation Accuracy: 0.607200\n",
      "Epoch 39, CIFAR-10 Batch 1:  Loss:     0.7679 Validation Accuracy: 0.567800\n",
      "Epoch 39, CIFAR-10 Batch 2:  Loss:     0.7470 Validation Accuracy: 0.608000\n",
      "Epoch 39, CIFAR-10 Batch 3:  Loss:     0.6552 Validation Accuracy: 0.596000\n",
      "Epoch 39, CIFAR-10 Batch 4:  Loss:     0.7752 Validation Accuracy: 0.599800\n",
      "Epoch 39, CIFAR-10 Batch 5:  Loss:     0.8012 Validation Accuracy: 0.607800\n",
      "Epoch 40, CIFAR-10 Batch 1:  Loss:     0.7392 Validation Accuracy: 0.575400\n",
      "Epoch 40, CIFAR-10 Batch 2:  Loss:     0.8191 Validation Accuracy: 0.598400\n",
      "Epoch 40, CIFAR-10 Batch 3:  Loss:     0.6279 Validation Accuracy: 0.592200\n",
      "Epoch 40, CIFAR-10 Batch 4:  Loss:     0.7602 Validation Accuracy: 0.598000\n",
      "Epoch 40, CIFAR-10 Batch 5:  Loss:     0.7632 Validation Accuracy: 0.610200\n",
      "Epoch 41, CIFAR-10 Batch 1:  Loss:     0.7416 Validation Accuracy: 0.590800\n",
      "Epoch 41, CIFAR-10 Batch 2:  Loss:     0.7809 Validation Accuracy: 0.599400\n",
      "Epoch 41, CIFAR-10 Batch 3:  Loss:     0.6518 Validation Accuracy: 0.597000\n",
      "Epoch 41, CIFAR-10 Batch 4:  Loss:     0.7274 Validation Accuracy: 0.599600\n",
      "Epoch 41, CIFAR-10 Batch 5:  Loss:     0.7586 Validation Accuracy: 0.595800\n",
      "Epoch 42, CIFAR-10 Batch 1:  Loss:     0.7233 Validation Accuracy: 0.560600\n",
      "Epoch 42, CIFAR-10 Batch 2:  Loss:     0.7707 Validation Accuracy: 0.588400\n",
      "Epoch 42, CIFAR-10 Batch 3:  Loss:     0.5772 Validation Accuracy: 0.601000\n",
      "Epoch 42, CIFAR-10 Batch 4:  Loss:     0.7921 Validation Accuracy: 0.587200\n",
      "Epoch 42, CIFAR-10 Batch 5:  Loss:     0.7042 Validation Accuracy: 0.611600\n",
      "Epoch 43, CIFAR-10 Batch 1:  Loss:     0.7176 Validation Accuracy: 0.590000\n",
      "Epoch 43, CIFAR-10 Batch 2:  Loss:     0.7496 Validation Accuracy: 0.605600\n",
      "Epoch 43, CIFAR-10 Batch 3:  Loss:     0.5880 Validation Accuracy: 0.607000\n",
      "Epoch 43, CIFAR-10 Batch 4:  Loss:     0.7451 Validation Accuracy: 0.599200\n",
      "Epoch 43, CIFAR-10 Batch 5:  Loss:     0.7483 Validation Accuracy: 0.606600\n",
      "Epoch 44, CIFAR-10 Batch 1:  Loss:     0.8040 Validation Accuracy: 0.576400\n"
     ]
    },
    {
     "name": "stdout",
     "output_type": "stream",
     "text": [
      "Epoch 44, CIFAR-10 Batch 2:  Loss:     0.7726 Validation Accuracy: 0.609800\n",
      "Epoch 44, CIFAR-10 Batch 3:  Loss:     0.5892 Validation Accuracy: 0.605600\n",
      "Epoch 44, CIFAR-10 Batch 4:  Loss:     0.7759 Validation Accuracy: 0.596400\n",
      "Epoch 44, CIFAR-10 Batch 5:  Loss:     0.7357 Validation Accuracy: 0.604000\n",
      "Epoch 45, CIFAR-10 Batch 1:  Loss:     0.7327 Validation Accuracy: 0.577000\n",
      "Epoch 45, CIFAR-10 Batch 2:  Loss:     0.7053 Validation Accuracy: 0.613400\n",
      "Epoch 45, CIFAR-10 Batch 3:  Loss:     0.5965 Validation Accuracy: 0.593400\n",
      "Epoch 45, CIFAR-10 Batch 4:  Loss:     0.7315 Validation Accuracy: 0.602000\n",
      "Epoch 45, CIFAR-10 Batch 5:  Loss:     0.6653 Validation Accuracy: 0.610200\n",
      "Epoch 46, CIFAR-10 Batch 1:  Loss:     0.7126 Validation Accuracy: 0.586400\n",
      "Epoch 46, CIFAR-10 Batch 2:  Loss:     0.7653 Validation Accuracy: 0.610000\n",
      "Epoch 46, CIFAR-10 Batch 3:  Loss:     0.6408 Validation Accuracy: 0.593400\n",
      "Epoch 46, CIFAR-10 Batch 4:  Loss:     0.7567 Validation Accuracy: 0.601200\n",
      "Epoch 46, CIFAR-10 Batch 5:  Loss:     0.6727 Validation Accuracy: 0.610200\n",
      "Epoch 47, CIFAR-10 Batch 1:  Loss:     0.7174 Validation Accuracy: 0.594200\n",
      "Epoch 47, CIFAR-10 Batch 2:  Loss:     0.7700 Validation Accuracy: 0.601800\n",
      "Epoch 47, CIFAR-10 Batch 3:  Loss:     0.5598 Validation Accuracy: 0.604200\n",
      "Epoch 47, CIFAR-10 Batch 4:  Loss:     0.7343 Validation Accuracy: 0.599400\n",
      "Epoch 47, CIFAR-10 Batch 5:  Loss:     0.6962 Validation Accuracy: 0.601800\n",
      "Epoch 48, CIFAR-10 Batch 1:  Loss:     0.6916 Validation Accuracy: 0.592000\n",
      "Epoch 48, CIFAR-10 Batch 2:  Loss:     0.7682 Validation Accuracy: 0.602800\n",
      "Epoch 48, CIFAR-10 Batch 3:  Loss:     0.5689 Validation Accuracy: 0.600400\n",
      "Epoch 48, CIFAR-10 Batch 4:  Loss:     0.7154 Validation Accuracy: 0.608800\n",
      "Epoch 48, CIFAR-10 Batch 5:  Loss:     0.6652 Validation Accuracy: 0.614600\n",
      "Epoch 49, CIFAR-10 Batch 1:  Loss:     0.7769 Validation Accuracy: 0.593800\n",
      "Epoch 49, CIFAR-10 Batch 2:  Loss:     0.7643 Validation Accuracy: 0.598800\n",
      "Epoch 49, CIFAR-10 Batch 3:  Loss:     0.5390 Validation Accuracy: 0.603600\n",
      "Epoch 49, CIFAR-10 Batch 4:  Loss:     0.6814 Validation Accuracy: 0.600800\n",
      "Epoch 49, CIFAR-10 Batch 5:  Loss:     0.6739 Validation Accuracy: 0.601200\n",
      "Epoch 50, CIFAR-10 Batch 1:  Loss:     0.6816 Validation Accuracy: 0.609400\n",
      "Epoch 50, CIFAR-10 Batch 2:  Loss:     0.7827 Validation Accuracy: 0.601400\n",
      "Epoch 50, CIFAR-10 Batch 3:  Loss:     0.5581 Validation Accuracy: 0.600600\n",
      "Epoch 50, CIFAR-10 Batch 4:  Loss:     0.6754 Validation Accuracy: 0.603400\n",
      "Epoch 50, CIFAR-10 Batch 5:  Loss:     0.6482 Validation Accuracy: 0.602000\n"
     ]
    }
   ],
   "source": [
    "\"\"\"\n",
    "DON'T MODIFY ANYTHING IN THIS CELL\n",
    "\"\"\"\n",
    "save_model_path = './image_classification'\n",
    "\n",
    "print('Training...')\n",
    "with tf.Session() as sess:\n",
    "    # Initializing the variables\n",
    "    sess.run(tf.global_variables_initializer())\n",
    "    \n",
    "    # Training cycle\n",
    "    for epoch in range(epochs):\n",
    "        # Loop over all batches\n",
    "        n_batches = 5\n",
    "        for batch_i in range(1, n_batches + 1):\n",
    "            for batch_features, batch_labels in helper.load_preprocess_training_batch(batch_i, batch_size):\n",
    "                train_neural_network(sess, optimizer, keep_probability, batch_features, batch_labels)\n",
    "            print('Epoch {:>2}, CIFAR-10 Batch {}:  '.format(epoch + 1, batch_i), end='')\n",
    "            print_stats(sess, batch_features, batch_labels, cost, accuracy)\n",
    "            \n",
    "    # Save Model\n",
    "    saver = tf.train.Saver()\n",
    "    save_path = saver.save(sess, save_model_path)"
   ]
  },
  {
   "cell_type": "markdown",
   "metadata": {},
   "source": [
    "# Checkpoint\n",
    "The model has been saved to disk.\n",
    "## Test Model\n",
    "Test your model against the test dataset.  This will be your final accuracy. You should have an accuracy greater than 50%. If you don't, keep tweaking the model architecture and parameters."
   ]
  },
  {
   "cell_type": "code",
   "execution_count": 36,
   "metadata": {},
   "outputs": [
    {
     "name": "stdout",
     "output_type": "stream",
     "text": [
      "INFO:tensorflow:Restoring parameters from ./image_classification\n",
      "Testing Accuracy: 0.6075949367088608\n",
      "\n"
     ]
    },
    {
     "data": {
      "image/png": "[encoded data removed]",
      "text/plain": [
       "<matplotlib.figure.Figure at 0x7efc3014dfd0>"
      ]
     },
     "metadata": {
      "image/png": {
       "height": 319,
       "width": 355
      }
     },
     "output_type": "display_data"
    }
   ],
   "source": [
    "\"\"\"\n",
    "DON'T MODIFY ANYTHING IN THIS CELL\n",
    "\"\"\"\n",
    "%matplotlib inline\n",
    "%config InlineBackend.figure_format = 'retina'\n",
    "\n",
    "import tensorflow as tf\n",
    "import pickle\n",
    "import helper\n",
    "import random\n",
    "\n",
    "# Set batch size if not already set\n",
    "try:\n",
    "    if batch_size:\n",
    "        pass\n",
    "except NameError:\n",
    "    batch_size = 64\n",
    "\n",
    "save_model_path = './image_classification'\n",
    "n_samples = 4\n",
    "top_n_predictions = 3\n",
    "\n",
    "def test_model():\n",
    "    \"\"\"\n",
    "    Test the saved model against the test dataset\n",
    "    \"\"\"\n",
    "\n",
    "    test_features, test_labels = pickle.load(open('preprocess_test.p', mode='rb'))\n",
    "    loaded_graph = tf.Graph()\n",
    "\n",
    "    with tf.Session(graph=loaded_graph) as sess:\n",
    "        # Load model\n",
    "        loader = tf.train.import_meta_graph(save_model_path + '.meta')\n",
    "        loader.restore(sess, save_model_path)\n",
    "\n",
    "        # Get Tensors from loaded model\n",
    "        loaded_x = loaded_graph.get_tensor_by_name('x:0')\n",
    "        loaded_y = loaded_graph.get_tensor_by_name('y:0')\n",
    "        loaded_keep_prob = loaded_graph.get_tensor_by_name('keep_prob:0')\n",
    "        loaded_logits = loaded_graph.get_tensor_by_name('logits:0')\n",
    "        loaded_acc = loaded_graph.get_tensor_by_name('accuracy:0')\n",
    "        \n",
    "        # Get accuracy in batches for memory limitations\n",
    "        test_batch_acc_total = 0\n",
    "        test_batch_count = 0\n",
    "        \n",
    "        for test_feature_batch, test_label_batch in helper.batch_features_labels(test_features, test_labels, batch_size):\n",
    "            test_batch_acc_total += sess.run(\n",
    "                loaded_acc,\n",
    "                feed_dict={loaded_x: test_feature_batch, loaded_y: test_label_batch, loaded_keep_prob: 1.0})\n",
    "            test_batch_count += 1\n",
    "\n",
    "        print('Testing Accuracy: {}\\n'.format(test_batch_acc_total/test_batch_count))\n",
    "\n",
    "        # Print Random Samples\n",
    "        random_test_features, random_test_labels = tuple(zip(*random.sample(list(zip(test_features, test_labels)), n_samples)))\n",
    "        random_test_predictions = sess.run(\n",
    "            tf.nn.top_k(tf.nn.softmax(loaded_logits), top_n_predictions),\n",
    "            feed_dict={loaded_x: random_test_features, loaded_y: random_test_labels, loaded_keep_prob: 1.0})\n",
    "        helper.display_image_predictions(random_test_features, random_test_labels, random_test_predictions)\n",
    "\n",
    "\n",
    "test_model()"
   ]
  },
  {
   "cell_type": "markdown",
   "metadata": {},
   "source": [
    "## Why 50-80% Accuracy?\n",
    "You might be wondering why you can't get an accuracy any higher. First things first, 50% isn't bad for a simple CNN.  Pure guessing would get you 10% accuracy. However, you might notice people are getting scores [well above 80%](http://rodrigob.github.io/are_we_there_yet/build/classification_datasets_results.html#43494641522d3130).  That's because we haven't taught you all there is to know about neural networks. We still need to cover a few more techniques.\n",
    "## Submitting This Project\n",
    "When submitting this project, make sure to run all the cells before saving the notebook.  Save the notebook file as \"dlnd_image_classification.ipynb\" and save it as a HTML file under \"File\" -> \"Download as\".  Include the \"helper.py\" and \"problem_unittests.py\" files in your submission."
   ]
  }
 ],
 "metadata": {
  "kernelspec": {
   "display_name": "Python 3",
   "language": "python",
   "name": "python3"
  },
  "language_info": {
   "codemirror_mode": {
    "name": "ipython",
    "version": 3
   },
   "file_extension": ".py",
   "mimetype": "text/x-python",
   "name": "python",
   "nbconvert_exporter": "python",
   "pygments_lexer": "ipython3",
   "version": "3.4.3"
  }
 },
 "nbformat": 4,
 "nbformat_minor": 1
}
